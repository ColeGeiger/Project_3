{
 "cells": [
  {
   "cell_type": "code",
   "execution_count": 43,
   "id": "6f6bf2d6",
   "metadata": {},
   "outputs": [],
   "source": [
    "import pandas as pd\n",
    "\n"
   ]
  },
  {
   "cell_type": "code",
   "execution_count": 46,
   "id": "04708b4a",
   "metadata": {},
   "outputs": [],
   "source": [
    "#import text files as data frames\n",
    "\n",
    "path_array = ['data/Births.txt', 'data/bltper_1x1.txt','data/Deaths_1x1.txt','data/E0per.txt','data/Mx_1x1.txt','data/Population.txt']\n",
    "\n",
    "dfs = {}\n",
    "\n",
    "for i in path_array:\n",
    "    file_data = pd.read_csv(i, delim_whitespace=True)\n",
    "    # Get the file name without the extension\n",
    "    name = i.split(\"/\")[-1].split(\".\")[0]\n",
    "    dfs[name] = pd.DataFrame(file_data)\n",
    "\n",
    "births_df = dfs['Births']\n",
    "bltper_df = dfs['bltper_1x1']\n",
    "deaths_df = dfs['Deaths_1x1']\n",
    "e0per_df = dfs['E0per']\n",
    "mx_df = dfs['Mx_1x1']\n",
    "population_df = dfs['Population']   "
   ]
  },
  {
   "cell_type": "code",
   "execution_count": 48,
   "id": "a7f0abe1",
   "metadata": {},
   "outputs": [],
   "source": [
    "#import csvs as dataframes\n",
    "\n",
    "path_array = ['data/h11ar.csv', 'data/p01ar.csv']\n",
    "\n",
    "dfs = {}\n",
    "\n",
    "for i in path_array:\n",
    "    file_data = pd.read_csv(i, delimiter = \",\")\n",
    "    # Get the file name without the extension\n",
    "    name = i.split(\"/\")[-1].split(\".\")[0]\n",
    "    dfs[name] = pd.DataFrame(file_data)\n",
    "\n",
    "income_df = dfs['h11ar']\n",
    "per_capita_df = dfs['p01ar']\n"
   ]
  },
  {
   "cell_type": "code",
   "execution_count": 50,
   "id": "dd310528",
   "metadata": {},
   "outputs": [
    {
     "data": {
      "text/html": [
       "<div>\n",
       "<style scoped>\n",
       "    .dataframe tbody tr th:only-of-type {\n",
       "        vertical-align: middle;\n",
       "    }\n",
       "\n",
       "    .dataframe tbody tr th {\n",
       "        vertical-align: top;\n",
       "    }\n",
       "\n",
       "    .dataframe thead th {\n",
       "        text-align: right;\n",
       "    }\n",
       "</style>\n",
       "<table border=\"1\" class=\"dataframe\">\n",
       "  <thead>\n",
       "    <tr style=\"text-align: right;\">\n",
       "      <th></th>\n",
       "      <th>Year</th>\n",
       "      <th>Population in thousands</th>\n",
       "      <th>Per capita income Current dollars</th>\n",
       "      <th>Per capita income 2022 dollars</th>\n",
       "    </tr>\n",
       "  </thead>\n",
       "  <tbody>\n",
       "    <tr>\n",
       "      <th>0</th>\n",
       "      <td>2022</td>\n",
       "      <td>330,600</td>\n",
       "      <td>42,980</td>\n",
       "      <td>42,980</td>\n",
       "    </tr>\n",
       "    <tr>\n",
       "      <th>1</th>\n",
       "      <td>2021</td>\n",
       "      <td>328,700</td>\n",
       "      <td>41,290</td>\n",
       "      <td>44,520</td>\n",
       "    </tr>\n",
       "    <tr>\n",
       "      <th>2</th>\n",
       "      <td>2020 (41)</td>\n",
       "      <td>328,100</td>\n",
       "      <td>38,930</td>\n",
       "      <td>43,890</td>\n",
       "    </tr>\n",
       "    <tr>\n",
       "      <th>3</th>\n",
       "      <td>2019</td>\n",
       "      <td>325,300</td>\n",
       "      <td>39,160</td>\n",
       "      <td>44,600</td>\n",
       "    </tr>\n",
       "    <tr>\n",
       "      <th>4</th>\n",
       "      <td>2018</td>\n",
       "      <td>324,400</td>\n",
       "      <td>36,080</td>\n",
       "      <td>41,700</td>\n",
       "    </tr>\n",
       "  </tbody>\n",
       "</table>\n",
       "</div>"
      ],
      "text/plain": [
       "        Year Population in thousands Per capita income Current dollars  \\\n",
       "0       2022                 330,600                            42,980   \n",
       "1       2021                 328,700                            41,290   \n",
       "2  2020 (41)                 328,100                            38,930   \n",
       "3       2019                 325,300                            39,160   \n",
       "4       2018                 324,400                            36,080   \n",
       "\n",
       "  Per capita income 2022 dollars  \n",
       "0                         42,980  \n",
       "1                         44,520  \n",
       "2                         43,890  \n",
       "3                         44,600  \n",
       "4                         41,700  "
      ]
     },
     "execution_count": 50,
     "metadata": {},
     "output_type": "execute_result"
    }
   ],
   "source": [
    "bltper_df.head()"
   ]
  },
  {
   "cell_type": "code",
   "execution_count": null,
   "id": "8ca7e370",
   "metadata": {},
   "outputs": [],
   "source": []
  }
 ],
 "metadata": {
  "kernelspec": {
   "display_name": "Python 3 (ipykernel)",
   "language": "python",
   "name": "python3"
  },
  "language_info": {
   "codemirror_mode": {
    "name": "ipython",
    "version": 3
   },
   "file_extension": ".py",
   "mimetype": "text/x-python",
   "name": "python",
   "nbconvert_exporter": "python",
   "pygments_lexer": "ipython3",
   "version": "3.11.5"
  }
 },
 "nbformat": 4,
 "nbformat_minor": 5
}
