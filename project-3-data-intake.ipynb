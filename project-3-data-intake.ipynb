{
 "cells": [
  {
   "cell_type": "code",
   "execution_count": 280,
   "id": "6f6bf2d6",
   "metadata": {},
   "outputs": [],
   "source": [
    "import pandas as pd\n",
    "import pandera as pa\n",
    "import seaborn as sns\n",
    "import matplotlib.pyplot as plt\n",
    "from sqlalchemy import create_engine\n",
    "import numpy as np"
   ]
  },
  {
   "cell_type": "code",
   "execution_count": 293,
   "id": "04708b4a",
   "metadata": {},
   "outputs": [],
   "source": [
    "#import text files as data frames\n",
    "\n",
    "path_array = ['data/Births.txt', 'data/bltper_1x1.txt','data/Deaths_1x1.txt','data/E0per.txt','data/Mx_1x1.txt','data/Population.txt']\n",
    "\n",
    "dfs = {}\n",
    "\n",
    "for i in path_array:\n",
    "    file_data = pd.read_csv(i, delim_whitespace=True)\n",
    "    # Get the file name without the extension\n",
    "    name = i.split(\"/\")[-1].split(\".\")[0]\n",
    "    dfs[name] = pd.DataFrame(file_data)\n",
    "\n",
    "births_df = dfs['Births']\n",
    "bltper_df = dfs['bltper_1x1']\n",
    "deaths_df = dfs['Deaths_1x1']\n",
    "e0per_df = dfs['E0per']\n",
    "mx_df = dfs['Mx_1x1']\n",
    "population_df = dfs['Population']   "
   ]
  },
  {
   "cell_type": "code",
   "execution_count": 294,
   "id": "a7f0abe1",
   "metadata": {},
   "outputs": [
    {
     "data": {
      "text/html": [
       "<div>\n",
       "<style scoped>\n",
       "    .dataframe tbody tr th:only-of-type {\n",
       "        vertical-align: middle;\n",
       "    }\n",
       "\n",
       "    .dataframe tbody tr th {\n",
       "        vertical-align: top;\n",
       "    }\n",
       "\n",
       "    .dataframe thead th {\n",
       "        text-align: right;\n",
       "    }\n",
       "</style>\n",
       "<table border=\"1\" class=\"dataframe\">\n",
       "  <thead>\n",
       "    <tr style=\"text-align: right;\">\n",
       "      <th></th>\n",
       "      <th>Size of Household\\r\\nand year</th>\n",
       "      <th>Number (thousands)</th>\n",
       "      <th>Median Income Current dollars</th>\n",
       "      <th>Median Income 2022 dollars</th>\n",
       "      <th>Mean Income Current dollars</th>\n",
       "      <th>Mean Income 2022 dollars</th>\n",
       "      <th>Average size of household</th>\n",
       "    </tr>\n",
       "  </thead>\n",
       "  <tbody>\n",
       "    <tr>\n",
       "      <th>0</th>\n",
       "      <td>2022</td>\n",
       "      <td>131,400</td>\n",
       "      <td>74,580</td>\n",
       "      <td>74,580</td>\n",
       "      <td>106,400</td>\n",
       "      <td>106,400</td>\n",
       "      <td>2.51</td>\n",
       "    </tr>\n",
       "    <tr>\n",
       "      <th>1</th>\n",
       "      <td>2021</td>\n",
       "      <td>131,200</td>\n",
       "      <td>70,780</td>\n",
       "      <td>76,330</td>\n",
       "      <td>102,300</td>\n",
       "      <td>110,300</td>\n",
       "      <td>2.50</td>\n",
       "    </tr>\n",
       "    <tr>\n",
       "      <th>2</th>\n",
       "      <td>2020 (41)</td>\n",
       "      <td>129,200</td>\n",
       "      <td>68,010</td>\n",
       "      <td>76,660</td>\n",
       "      <td>97,470</td>\n",
       "      <td>109,900</td>\n",
       "      <td>2.54</td>\n",
       "    </tr>\n",
       "    <tr>\n",
       "      <th>3</th>\n",
       "      <td>2019</td>\n",
       "      <td>128,500</td>\n",
       "      <td>68,700</td>\n",
       "      <td>78,250</td>\n",
       "      <td>98,090</td>\n",
       "      <td>111,700</td>\n",
       "      <td>2.53</td>\n",
       "    </tr>\n",
       "    <tr>\n",
       "      <th>4</th>\n",
       "      <td>2018</td>\n",
       "      <td>128,600</td>\n",
       "      <td>63,180</td>\n",
       "      <td>73,030</td>\n",
       "      <td>90,020</td>\n",
       "      <td>104,100</td>\n",
       "      <td>2.52</td>\n",
       "    </tr>\n",
       "  </tbody>\n",
       "</table>\n",
       "</div>"
      ],
      "text/plain": [
       "  Size of Household\\r\\nand year Number (thousands)  \\\n",
       "0                          2022            131,400   \n",
       "1                          2021            131,200   \n",
       "2                     2020 (41)            129,200   \n",
       "3                          2019            128,500   \n",
       "4                          2018            128,600   \n",
       "\n",
       "  Median Income Current dollars Median Income 2022 dollars  \\\n",
       "0                        74,580                     74,580   \n",
       "1                        70,780                     76,330   \n",
       "2                        68,010                     76,660   \n",
       "3                        68,700                     78,250   \n",
       "4                        63,180                     73,030   \n",
       "\n",
       "  Mean Income Current dollars Mean Income 2022 dollars  \\\n",
       "0                     106,400                  106,400   \n",
       "1                     102,300                  110,300   \n",
       "2                      97,470                  109,900   \n",
       "3                      98,090                  111,700   \n",
       "4                      90,020                  104,100   \n",
       "\n",
       "   Average size of household  \n",
       "0                       2.51  \n",
       "1                       2.50  \n",
       "2                       2.54  \n",
       "3                       2.53  \n",
       "4                       2.52  "
      ]
     },
     "execution_count": 294,
     "metadata": {},
     "output_type": "execute_result"
    }
   ],
   "source": [
    "#import csvs as dataframes\n",
    "\n",
    "path_array = ['data/h11ar.csv', 'data/p01ar.csv']\n",
    "\n",
    "dfs = {}\n",
    "\n",
    "for i in path_array:\n",
    "    file_data = pd.read_csv(i, delimiter = \",\")\n",
    "    # Get the file name without the extension\n",
    "    name = i.split(\"/\")[-1].split(\".\")[0]\n",
    "    dfs[name] = pd.DataFrame(file_data)\n",
    "\n",
    "income_df = dfs['h11ar']\n",
    "per_capita_df = dfs['p01ar']\n",
    "income_df.head()"
   ]
  },
  {
   "cell_type": "code",
   "execution_count": 296,
   "id": "4f5aac88",
   "metadata": {},
   "outputs": [],
   "source": [
    "##INCOME and PER CAPITA CLEANING\n",
    "\n",
    "#Removing \"(#)\" in Size of households\\nand year for income and per_capita\n",
    "income_df['Size of Household\\r\\nand year'] = income_df['Size of Household\\r\\nand year'].str.replace(r'\\(\\d+\\)', '', regex=True)\n",
    "per_capita_df['Year'] = per_capita_df['Year'].str.replace(r'\\(\\d+\\)', '', regex=True)\n",
    "\n",
    "#Renaming \"Size of Household\\nand year\" to \"Year\"\n",
    "income_df.rename(columns={'Size of Household\\r\\nand year': 'Year'}, inplace=True)\n",
    "per_capita_df.rename(columns={'Year': 'Year'}, inplace=True)\n",
    "\n",
    "# Convert all to integer\n",
    "income_columns_to_convert = ['Number (thousands)', 'Median Income Current dollars', 'Median Income 2022 dollars', 'Mean Income Current dollars', 'Mean Income 2022 dollars']\n",
    "income_df[income_columns_to_convert] = income_df[income_columns_to_convert].replace({',': ''}, regex=True).astype(np.int64)\n",
    "\n",
    "per_capita_columns_to_convert = ['Population in thousands', 'Per capita income Current dollars', 'Per capita income 2022 dollars']\n",
    "per_capita_df[per_capita_columns_to_convert] = per_capita_df[per_capita_columns_to_convert].replace({',': ''}, regex=True).astype(np.int64)"
   ]
  },
  {
   "cell_type": "code",
   "execution_count": 297,
   "id": "c30f3b83",
   "metadata": {},
   "outputs": [
    {
     "data": {
      "text/plain": [
       "Year                      int64\n",
       "Age                       int64\n",
       "Annual Death Rate       float64\n",
       "Probability of Death    float64\n",
       "Number of Deaths          int64\n",
       "Life Expectancy           int64\n",
       "dtype: object"
      ]
     },
     "execution_count": 297,
     "metadata": {},
     "output_type": "execute_result"
    }
   ],
   "source": [
    "### BLTPER CLEANING\n",
    "# Drop unneeded variables from bltper_df dataset and rename columns\n",
    "bltper_df.rename(columns={'mx': 'Annual Death Rate','qx':'Probability of Death', 'dx':'Number of Deaths','ex': 'Life Expectancy'}, inplace=True)\n",
    "bltper_df = bltper_df[['Year','Age','Annual Death Rate','Probability of Death','Number of Deaths','Life Expectancy']]\n",
    "\n",
    "\n",
    "\n",
    "# Convert values to int64 and int\n",
    "bltper_df[['Annual Death Rate', 'Probability of Death']] = bltper_df[['Annual Death Rate', 'Probability of Death']].astype(float)\n",
    "bltper_df[['Number of Deaths', 'Life Expectancy']] = bltper_df[['Number of Deaths', 'Life Expectancy']].astype(int)\n",
    "\n",
    "\n",
    "# Convert 'Age' column \n",
    "bltper_df['Age'] = pd.to_numeric(bltper_df['Age'], errors='coerce')\n",
    "bltper_df['Age'] = bltper_df['Age'].fillna(0)\n",
    "bltper_df['Age'] = bltper_df['Age'].astype(np.int64)\n",
    "    \n",
    "    \n",
    "#Convert Life expectancy type as Int\n",
    "bltper_df['Life Expectancy'] = bltper_df['Life Expectancy'].astype(np.int64)\n",
    "\n",
    "##Convert Number of Deaths type as Int\n",
    "bltper_df['Number of Deaths'] = bltper_df['Number of Deaths'].astype(np.int64)\n",
    "\n",
    "#Convert Annual Death Rate & Probability to percentage\n",
    "bltper_df['Annual Death Rate'] = bltper_df['Annual Death Rate']*100\n",
    "bltper_df['Probability of Death'] = bltper_df['Probability of Death']*100\n",
    "bltper_df.dtypes"
   ]
  },
  {
   "cell_type": "code",
   "execution_count": 312,
   "id": "a8ae11d4",
   "metadata": {},
   "outputs": [
    {
     "data": {
      "text/plain": [
       "Year        int64\n",
       "Age         int64\n",
       "Female    float64\n",
       "Male      float64\n",
       "Total     float64\n",
       "dtype: object"
      ]
     },
     "execution_count": 312,
     "metadata": {},
     "output_type": "execute_result"
    }
   ],
   "source": [
    "deaths_df.dtypes"
   ]
  },
  {
   "cell_type": "code",
   "execution_count": 311,
   "id": "197a517c",
   "metadata": {},
   "outputs": [],
   "source": [
    "##DEATHS CLEANING\n",
    "deaths_df['Age'] = pd.to_numeric(deaths_df['Age'], errors='coerce', downcast='integer').fillna(0).astype(np.int64)\n",
    "\n"
   ]
  },
  {
   "cell_type": "code",
   "execution_count": 321,
   "id": "e81d768c",
   "metadata": {},
   "outputs": [
    {
     "data": {
      "text/plain": [
       "Year      float64\n",
       "Age        object\n",
       "Female    float64\n",
       "Male      float64\n",
       "Total     float64\n",
       "dtype: object"
      ]
     },
     "execution_count": 321,
     "metadata": {},
     "output_type": "execute_result"
    }
   ],
   "source": [
    "population_df.dtypes"
   ]
  },
  {
   "cell_type": "code",
   "execution_count": 340,
   "id": "10694e32",
   "metadata": {},
   "outputs": [],
   "source": [
    "##POPULATION CLEANING\n",
    "population_df['Age'] = pd.to_numeric(population_df['Age'], errors='coerce', downcast='integer').fillna(0).astype(np.int64)\n",
    "population_df['Year'] = population_df['Year'].astype(np.int64)"
   ]
  },
  {
   "cell_type": "code",
   "execution_count": 341,
   "id": "2bcdcfeb",
   "metadata": {},
   "outputs": [],
   "source": [
    "# Create a dictionary to store your DataFrames\n",
    "dataframes = {\n",
    "    'births_df': births_df,\n",
    "    'bltper_df': bltper_df,\n",
    "    'deaths_df': deaths_df,\n",
    "    'e0per_df': e0per_df,\n",
    "    'mx_df': mx_df,\n",
    "    'population_df': population_df,\n",
    "    'income_df': income_df, \n",
    "    'per_capita_df': per_capita_df\n",
    "}\n"
   ]
  },
  {
   "cell_type": "code",
   "execution_count": 342,
   "id": "146f55d4",
   "metadata": {},
   "outputs": [],
   "source": [
    "# Iterate over the dictionary items\n",
    "for df_name, df in dataframes.items():\n",
    "    # Check if 'Year' column exists in the DataFrame\n",
    "    if 'Year' in df.columns:\n",
    "        # Convert 'Year' column to integers (if it's currently stored as strings)\n",
    "        df['Year'] = pd.to_numeric(df['Year'], errors='coerce')\n",
    "        # Apply your filter to the DataFrame and update the original DataFrame\n",
    "        dataframes[df_name] = df.loc[(df['Year'] > 1972), :].reset_index(drop=True)\n",
    "    else:\n",
    "        print(f\"Warning: DataFrame '{df_name}' does not have a 'Year' column.\")\n"
   ]
  },
  {
   "cell_type": "code",
   "execution_count": 343,
   "id": "1fee67bc",
   "metadata": {},
   "outputs": [],
   "source": [
    "# #Limit files to past 50 years of data\n",
    "\n",
    "# # Iterate over the dictionary items\n",
    "# for df_name, df in dataframes.items():\n",
    "#     # Apply your filter to the DataFrame\n",
    "#     dataframes[df_name] = df.loc[(df['Year'] > 1972), :].reset_index(drop=True)\n",
    "    \n"
   ]
  },
  {
   "cell_type": "code",
   "execution_count": 344,
   "id": "9afd2589",
   "metadata": {},
   "outputs": [
    {
     "name": "stdout",
     "output_type": "stream",
     "text": [
      "Total missing values in births_df: Year      0\n",
      "Female    0\n",
      "Male      0\n",
      "Total     0\n",
      "dtype: int64\n",
      "\n",
      "Total missing values in bltper_df: Year                    0\n",
      "Age                     0\n",
      "Annual Death Rate       0\n",
      "Probability of Death    0\n",
      "Number of Deaths        0\n",
      "Life Expectancy         0\n",
      "dtype: int64\n",
      "\n",
      "Total missing values in deaths_df: Year      0\n",
      "Age       0\n",
      "Female    0\n",
      "Male      0\n",
      "Total     0\n",
      "dtype: int64\n",
      "\n",
      "Total missing values in e0per_df: Year      0\n",
      "Female    0\n",
      "Male      0\n",
      "Total     0\n",
      "dtype: int64\n",
      "\n",
      "Total missing values in mx_df: Year      0\n",
      "Age       0\n",
      "Female    0\n",
      "Male      0\n",
      "Total     0\n",
      "dtype: int64\n",
      "\n",
      "Total missing values in population_df: Year      0\n",
      "Age       0\n",
      "Female    0\n",
      "Male      0\n",
      "Total     0\n",
      "dtype: int64\n",
      "\n",
      "Total missing values in income_df: Year                             0\n",
      "Number (thousands)               0\n",
      "Median Income Current dollars    0\n",
      "Median Income 2022 dollars       0\n",
      "Mean Income Current dollars      0\n",
      "Mean Income 2022 dollars         0\n",
      "Average size of household        0\n",
      "dtype: int64\n",
      "\n",
      "Total missing values in per_capita_df: Year                                 0\n",
      "Population in thousands              0\n",
      "Per capita income Current dollars    0\n",
      "Per capita income 2022 dollars       0\n",
      "dtype: int64\n",
      "\n",
      "Total zero values in births_df: Year      0\n",
      "Female    0\n",
      "Male      0\n",
      "Total     0\n",
      "dtype: int64\n",
      "\n",
      "Total zero values in bltper_df: Year                     0\n",
      "Age                     98\n",
      "Annual Death Rate        0\n",
      "Probability of Death     0\n",
      "Number of Deaths         0\n",
      "Life Expectancy          0\n",
      "dtype: int64\n",
      "\n",
      "Total zero values in deaths_df: Year       0\n",
      "Age       98\n",
      "Female     0\n",
      "Male       0\n",
      "Total      0\n",
      "dtype: int64\n",
      "\n",
      "Total zero values in e0per_df: Year      0\n",
      "Female    0\n",
      "Male      0\n",
      "Total     0\n",
      "dtype: int64\n",
      "\n",
      "Total zero values in mx_df: Year      0\n",
      "Age       0\n",
      "Female    0\n",
      "Male      0\n",
      "Total     0\n",
      "dtype: int64\n",
      "\n",
      "Total zero values in population_df: Year        0\n",
      "Age       100\n",
      "Female      0\n",
      "Male        0\n",
      "Total       0\n",
      "dtype: int64\n",
      "\n",
      "Total zero values in income_df: Year                             0\n",
      "Number (thousands)               0\n",
      "Median Income Current dollars    0\n",
      "Median Income 2022 dollars       0\n",
      "Mean Income Current dollars      0\n",
      "Mean Income 2022 dollars         0\n",
      "Average size of household        0\n",
      "dtype: int64\n",
      "\n",
      "Total zero values in per_capita_df: Year                                 0\n",
      "Population in thousands              0\n",
      "Per capita income Current dollars    0\n",
      "Per capita income 2022 dollars       0\n",
      "dtype: int64\n",
      "\n"
     ]
    }
   ],
   "source": [
    "for df_name, df in dataframes.items():\n",
    "    total_missing_values = df.isnull().sum()\n",
    "    print(f\"Total missing values in {df_name}: {total_missing_values}\\n\")\n",
    "# Check for zero values in each DataFrame\n",
    "for df_name, df in dataframes.items():\n",
    "    total_zero_values = (df == 0).sum()\n",
    "    print(f\"Total zero values in {df_name}: {total_zero_values}\\n\")"
   ]
  },
  {
   "cell_type": "code",
   "execution_count": 345,
   "id": "a47e4ac9",
   "metadata": {},
   "outputs": [],
   "source": [
    "births_df = dataframes['births_df']\n",
    "bltper_df = dataframes['bltper_df']\n",
    "deaths_df = dataframes['deaths_df']\n",
    "e0per_df = dataframes['e0per_df']\n",
    "mx_df = dataframes['mx_df']\n",
    "population_df = dataframes['population_df'] \n",
    "income_df = dataframes['income_df'] \n",
    "per_capita_df = dataframes['per_capita_df'] "
   ]
  },
  {
   "cell_type": "code",
   "execution_count": 346,
   "id": "cf89242f",
   "metadata": {},
   "outputs": [
    {
     "data": {
      "text/html": [
       "<div>\n",
       "<style scoped>\n",
       "    .dataframe tbody tr th:only-of-type {\n",
       "        vertical-align: middle;\n",
       "    }\n",
       "\n",
       "    .dataframe tbody tr th {\n",
       "        vertical-align: top;\n",
       "    }\n",
       "\n",
       "    .dataframe thead th {\n",
       "        text-align: right;\n",
       "    }\n",
       "</style>\n",
       "<table border=\"1\" class=\"dataframe\">\n",
       "  <thead>\n",
       "    <tr style=\"text-align: right;\">\n",
       "      <th></th>\n",
       "      <th>Year</th>\n",
       "      <th>Female</th>\n",
       "      <th>Male</th>\n",
       "      <th>Total</th>\n",
       "    </tr>\n",
       "  </thead>\n",
       "  <tbody>\n",
       "    <tr>\n",
       "      <th>48</th>\n",
       "      <td>2021</td>\n",
       "      <td>1790876</td>\n",
       "      <td>1873416</td>\n",
       "      <td>3664292</td>\n",
       "    </tr>\n",
       "  </tbody>\n",
       "</table>\n",
       "</div>"
      ],
      "text/plain": [
       "    Year   Female     Male    Total\n",
       "48  2021  1790876  1873416  3664292"
      ]
     },
     "execution_count": 346,
     "metadata": {},
     "output_type": "execute_result"
    }
   ],
   "source": [
    "births_df.tail(1)"
   ]
  },
  {
   "cell_type": "code",
   "execution_count": 347,
   "id": "ca5ad843",
   "metadata": {},
   "outputs": [],
   "source": [
    "# define births_df_schema\n",
    "births_df_schema = pa.DataFrameSchema({\n",
    "    \"Year\": pa.Column(int, checks=pa.Check(lambda s: s > 1972)),\n",
    "    \"Female\": pa.Column(int, checks=pa.Check.le(10000000)),\n",
    "    \"Male\": pa.Column(int, checks=pa.Check.le(10000000)),\n",
    "})\n",
    "\n",
    "births_dfv = births_df_schema(births_df)"
   ]
  },
  {
   "cell_type": "code",
   "execution_count": 348,
   "id": "8a6bbb8b",
   "metadata": {},
   "outputs": [
    {
     "data": {
      "text/html": [
       "<div>\n",
       "<style scoped>\n",
       "    .dataframe tbody tr th:only-of-type {\n",
       "        vertical-align: middle;\n",
       "    }\n",
       "\n",
       "    .dataframe tbody tr th {\n",
       "        vertical-align: top;\n",
       "    }\n",
       "\n",
       "    .dataframe thead th {\n",
       "        text-align: right;\n",
       "    }\n",
       "</style>\n",
       "<table border=\"1\" class=\"dataframe\">\n",
       "  <thead>\n",
       "    <tr style=\"text-align: right;\">\n",
       "      <th></th>\n",
       "      <th>Year</th>\n",
       "      <th>Age</th>\n",
       "      <th>Annual Death Rate</th>\n",
       "      <th>Probability of Death</th>\n",
       "      <th>Number of Deaths</th>\n",
       "      <th>Life Expectancy</th>\n",
       "    </tr>\n",
       "  </thead>\n",
       "  <tbody>\n",
       "    <tr>\n",
       "      <th>5438</th>\n",
       "      <td>2021</td>\n",
       "      <td>0</td>\n",
       "      <td>69.528</td>\n",
       "      <td>100.0</td>\n",
       "      <td>7</td>\n",
       "      <td>1</td>\n",
       "    </tr>\n",
       "  </tbody>\n",
       "</table>\n",
       "</div>"
      ],
      "text/plain": [
       "      Year  Age  Annual Death Rate  Probability of Death  Number of Deaths  \\\n",
       "5438  2021    0             69.528                 100.0                 7   \n",
       "\n",
       "      Life Expectancy  \n",
       "5438                1  "
      ]
     },
     "execution_count": 348,
     "metadata": {},
     "output_type": "execute_result"
    }
   ],
   "source": [
    "bltper_df.tail(1)"
   ]
  },
  {
   "cell_type": "code",
   "execution_count": 349,
   "id": "ddbd4afc",
   "metadata": {},
   "outputs": [],
   "source": [
    "# define bltper_df_schema\n",
    "bltper_df_schema = pa.DataFrameSchema({\n",
    "    \"Year\": pa.Column(int, checks=pa.Check(lambda s: s > 1972)),\n",
    "    \"Age\": pa.Column(int, checks=pa.Check.le(120)),\n",
    "    \"Annual Death Rate\": pa.Column(float, checks=pa.Check.le(100)),\n",
    "    \"Probability of Death\": pa.Column(float, checks=pa.Check.le(100)),\n",
    "    \"Number of Deaths\": pa.Column(int),\n",
    "    \"Life Expectancy\": pa.Column(int),\n",
    "})\n",
    "\n",
    "bltper_dfv = bltper_df_schema(bltper_df)\n"
   ]
  },
  {
   "cell_type": "code",
   "execution_count": 350,
   "id": "9bffb74a",
   "metadata": {},
   "outputs": [
    {
     "data": {
      "text/html": [
       "<div>\n",
       "<style scoped>\n",
       "    .dataframe tbody tr th:only-of-type {\n",
       "        vertical-align: middle;\n",
       "    }\n",
       "\n",
       "    .dataframe tbody tr th {\n",
       "        vertical-align: top;\n",
       "    }\n",
       "\n",
       "    .dataframe thead th {\n",
       "        text-align: right;\n",
       "    }\n",
       "</style>\n",
       "<table border=\"1\" class=\"dataframe\">\n",
       "  <thead>\n",
       "    <tr style=\"text-align: right;\">\n",
       "      <th></th>\n",
       "      <th>Year</th>\n",
       "      <th>Age</th>\n",
       "      <th>Female</th>\n",
       "      <th>Male</th>\n",
       "      <th>Total</th>\n",
       "    </tr>\n",
       "  </thead>\n",
       "  <tbody>\n",
       "    <tr>\n",
       "      <th>5438</th>\n",
       "      <td>2021</td>\n",
       "      <td>0</td>\n",
       "      <td>89.0</td>\n",
       "      <td>10.0</td>\n",
       "      <td>99.0</td>\n",
       "    </tr>\n",
       "  </tbody>\n",
       "</table>\n",
       "</div>"
      ],
      "text/plain": [
       "      Year  Age  Female  Male  Total\n",
       "5438  2021    0    89.0  10.0   99.0"
      ]
     },
     "execution_count": 350,
     "metadata": {},
     "output_type": "execute_result"
    }
   ],
   "source": [
    "deaths_df.tail(1)"
   ]
  },
  {
   "cell_type": "code",
   "execution_count": 351,
   "id": "53958d9b",
   "metadata": {},
   "outputs": [],
   "source": [
    "# define deaths_df_schema\n",
    "deaths_df_schema = pa.DataFrameSchema({\n",
    "    \"Year\": pa.Column(int, checks=pa.Check(lambda s: s > 1972)),\n",
    "    \"Age\": pa.Column(int, checks=pa.Check.le(120)),\n",
    "    \"Female\": pa.Column(float),\n",
    "    \"Male\": pa.Column(float),\n",
    "    \"Total\": pa.Column(float),\n",
    "})\n",
    "\n",
    "deaths_dfv = deaths_df_schema(deaths_df)"
   ]
  },
  {
   "cell_type": "code",
   "execution_count": 352,
   "id": "7a98d912",
   "metadata": {},
   "outputs": [],
   "source": [
    "# e0per_df.tail(1)"
   ]
  },
  {
   "cell_type": "code",
   "execution_count": 353,
   "id": "f2f06923",
   "metadata": {},
   "outputs": [],
   "source": [
    "# # define e0per_df_schema\n",
    "# e0per_df_schema = pa.DataFrameSchema({\n",
    "#     \"Year\": pa.Column(int, checks=pa.Check(lambda s: s > 1972)),\n",
    "#     \"Age\": pa.Column(int, checks=pa.Check.le(120)),\n",
    "#     \"Female\": pa.Column(float),\n",
    "#     \"Male\": pa.Column(float),\n",
    "#     \"Total\": pa.Column(float),\n",
    "# })\n",
    "\n",
    "# e0per_dfv = e0per_df_schema(e0per_df)"
   ]
  },
  {
   "cell_type": "code",
   "execution_count": 354,
   "id": "28b2aa48",
   "metadata": {},
   "outputs": [],
   "source": [
    "# mx_df.tail(1)"
   ]
  },
  {
   "cell_type": "code",
   "execution_count": 355,
   "id": "5bc8fcb4",
   "metadata": {},
   "outputs": [],
   "source": [
    "# # define mx_df_schema\n",
    "# mx_df_schema = pa.DataFrameSchema({\n",
    "#     \"Year\": pa.Column(int, checks=pa.Check(lambda s: s > 1972)),\n",
    "#     \"Age\": pa.Column(int, checks=pa.Check.le(120)),\n",
    "#     \"Female\": pa.Column(float),\n",
    "#     \"Male\": pa.Column(float),\n",
    "#     \"Total\": pa.Column(float),\n",
    "# })\n",
    "\n",
    "# mx_dfv = mx_df_schema(mx_df)"
   ]
  },
  {
   "cell_type": "code",
   "execution_count": 356,
   "id": "1a8ccfba",
   "metadata": {},
   "outputs": [
    {
     "data": {
      "text/html": [
       "<div>\n",
       "<style scoped>\n",
       "    .dataframe tbody tr th:only-of-type {\n",
       "        vertical-align: middle;\n",
       "    }\n",
       "\n",
       "    .dataframe tbody tr th {\n",
       "        vertical-align: top;\n",
       "    }\n",
       "\n",
       "    .dataframe thead th {\n",
       "        text-align: right;\n",
       "    }\n",
       "</style>\n",
       "<table border=\"1\" class=\"dataframe\">\n",
       "  <thead>\n",
       "    <tr style=\"text-align: right;\">\n",
       "      <th></th>\n",
       "      <th>Year</th>\n",
       "      <th>Age</th>\n",
       "      <th>Female</th>\n",
       "      <th>Male</th>\n",
       "      <th>Total</th>\n",
       "    </tr>\n",
       "  </thead>\n",
       "  <tbody>\n",
       "    <tr>\n",
       "      <th>5549</th>\n",
       "      <td>2022</td>\n",
       "      <td>0</td>\n",
       "      <td>120.87</td>\n",
       "      <td>30.94</td>\n",
       "      <td>151.81</td>\n",
       "    </tr>\n",
       "  </tbody>\n",
       "</table>\n",
       "</div>"
      ],
      "text/plain": [
       "      Year  Age  Female   Male   Total\n",
       "5549  2022    0  120.87  30.94  151.81"
      ]
     },
     "execution_count": 356,
     "metadata": {},
     "output_type": "execute_result"
    }
   ],
   "source": [
    "population_df.tail(1)"
   ]
  },
  {
   "cell_type": "code",
   "execution_count": 357,
   "id": "c4d95b5b",
   "metadata": {},
   "outputs": [],
   "source": [
    "# define population_df_schema\n",
    "population_df_schema = pa.DataFrameSchema({\n",
    "    \"Year\": pa.Column(int, checks=pa.Check(lambda s: s > 1972)),\n",
    "    \"Age\": pa.Column(int, checks=pa.Check.le(120)),\n",
    "    \"Female\": pa.Column(float),\n",
    "    \"Male\": pa.Column(float),\n",
    "    \"Total\": pa.Column(float),\n",
    "})\n",
    "\n",
    "population_dfv = population_df_schema(population_df)"
   ]
  },
  {
   "cell_type": "code",
   "execution_count": 358,
   "id": "102e24ac",
   "metadata": {},
   "outputs": [
    {
     "data": {
      "text/html": [
       "<div>\n",
       "<style scoped>\n",
       "    .dataframe tbody tr th:only-of-type {\n",
       "        vertical-align: middle;\n",
       "    }\n",
       "\n",
       "    .dataframe tbody tr th {\n",
       "        vertical-align: top;\n",
       "    }\n",
       "\n",
       "    .dataframe thead th {\n",
       "        text-align: right;\n",
       "    }\n",
       "</style>\n",
       "<table border=\"1\" class=\"dataframe\">\n",
       "  <thead>\n",
       "    <tr style=\"text-align: right;\">\n",
       "      <th></th>\n",
       "      <th>Year</th>\n",
       "      <th>Number (thousands)</th>\n",
       "      <th>Median Income Current dollars</th>\n",
       "      <th>Median Income 2022 dollars</th>\n",
       "      <th>Mean Income Current dollars</th>\n",
       "      <th>Mean Income 2022 dollars</th>\n",
       "      <th>Average size of household</th>\n",
       "    </tr>\n",
       "  </thead>\n",
       "  <tbody>\n",
       "    <tr>\n",
       "      <th>49</th>\n",
       "      <td>1975</td>\n",
       "      <td>72870</td>\n",
       "      <td>11800</td>\n",
       "      <td>55100</td>\n",
       "      <td>13780</td>\n",
       "      <td>64340</td>\n",
       "      <td>2.89</td>\n",
       "    </tr>\n",
       "  </tbody>\n",
       "</table>\n",
       "</div>"
      ],
      "text/plain": [
       "    Year  Number (thousands)  Median Income Current dollars  \\\n",
       "49  1975               72870                          11800   \n",
       "\n",
       "    Median Income 2022 dollars  Mean Income Current dollars  \\\n",
       "49                       55100                        13780   \n",
       "\n",
       "    Mean Income 2022 dollars  Average size of household  \n",
       "49                     64340                       2.89  "
      ]
     },
     "execution_count": 358,
     "metadata": {},
     "output_type": "execute_result"
    }
   ],
   "source": [
    "income_df.tail(1)"
   ]
  },
  {
   "cell_type": "code",
   "execution_count": 359,
   "id": "6d8274ca",
   "metadata": {},
   "outputs": [],
   "source": [
    "# define income_df_schema\n",
    "income_df_schema = pa.DataFrameSchema({\n",
    "    \"Year\": pa.Column(int, checks=pa.Check(lambda s: s > 1972)),\n",
    "    \"Number (thousands)\": pa.Column(int),\n",
    "    \"Median Income Current dollars\": pa.Column(int),\n",
    "    \"Median Income 2022 dollars\": pa.Column(int),\n",
    "    \"Mean Income Current dollars\": pa.Column(int),\n",
    "    \"Mean Income 2022 dollars\": pa.Column(int),\n",
    "    \"Average size of household\": pa.Column(float),\n",
    "})\n",
    "\n",
    "income_dfv = income_df_schema(income_df)"
   ]
  },
  {
   "cell_type": "code",
   "execution_count": 360,
   "id": "d881169e",
   "metadata": {},
   "outputs": [
    {
     "data": {
      "text/html": [
       "<div>\n",
       "<style scoped>\n",
       "    .dataframe tbody tr th:only-of-type {\n",
       "        vertical-align: middle;\n",
       "    }\n",
       "\n",
       "    .dataframe tbody tr th {\n",
       "        vertical-align: top;\n",
       "    }\n",
       "\n",
       "    .dataframe thead th {\n",
       "        text-align: right;\n",
       "    }\n",
       "</style>\n",
       "<table border=\"1\" class=\"dataframe\">\n",
       "  <thead>\n",
       "    <tr style=\"text-align: right;\">\n",
       "      <th></th>\n",
       "      <th>Year</th>\n",
       "      <th>Population in thousands</th>\n",
       "      <th>Per capita income Current dollars</th>\n",
       "      <th>Per capita income 2022 dollars</th>\n",
       "    </tr>\n",
       "  </thead>\n",
       "  <tbody>\n",
       "    <tr>\n",
       "      <th>51</th>\n",
       "      <td>1973</td>\n",
       "      <td>207900</td>\n",
       "      <td>4141</td>\n",
       "      <td>23010</td>\n",
       "    </tr>\n",
       "  </tbody>\n",
       "</table>\n",
       "</div>"
      ],
      "text/plain": [
       "    Year  Population in thousands  Per capita income Current dollars  \\\n",
       "51  1973                   207900                               4141   \n",
       "\n",
       "    Per capita income 2022 dollars  \n",
       "51                           23010  "
      ]
     },
     "execution_count": 360,
     "metadata": {},
     "output_type": "execute_result"
    }
   ],
   "source": [
    "per_capita_df.tail(1)"
   ]
  },
  {
   "cell_type": "code",
   "execution_count": 361,
   "id": "438960d6",
   "metadata": {},
   "outputs": [],
   "source": [
    "# define per_capita_df_schema\n",
    "per_capita_df_schema = pa.DataFrameSchema({\n",
    "    \"Year\": pa.Column(int, checks=pa.Check(lambda s: s > 1972)),\n",
    "    \"Population in thousands\": pa.Column(int),\n",
    "    \"Per capita income Current dollars\": pa.Column(int),\n",
    "    \"Per capita income 2022 dollars\": pa.Column(int),\n",
    "})\n",
    "\n",
    "per_capita_dfv = per_capita_df_schema(per_capita_df)"
   ]
  },
  {
   "cell_type": "code",
   "execution_count": 362,
   "id": "48b2ce1f",
   "metadata": {},
   "outputs": [
    {
     "data": {
      "image/png": "[encoded data removed]",
      "text/plain": [
       "<Figure size 1000x800 with 2 Axes>"
      ]
     },
     "metadata": {},
     "output_type": "display_data"
    },
    {
     "ename": "NameError",
     "evalue": "name 'edited' is not defined",
     "output_type": "error",
     "traceback": [
      "\u001b[1;31m---------------------------------------------------------------------------\u001b[0m",
      "\u001b[1;31mNameError\u001b[0m                                 Traceback (most recent call last)",
      "Cell \u001b[1;32mIn[362], line 8\u001b[0m\n\u001b[0;32m      6\u001b[0m plt\u001b[38;5;241m.\u001b[39mxticks(rotation\u001b[38;5;241m=\u001b[39m\u001b[38;5;241m45\u001b[39m, ha\u001b[38;5;241m=\u001b[39m\u001b[38;5;124m\"\u001b[39m\u001b[38;5;124mright\u001b[39m\u001b[38;5;124m\"\u001b[39m)\n\u001b[0;32m      7\u001b[0m plt\u001b[38;5;241m.\u001b[39mtitle(\u001b[38;5;124m'\u001b[39m\u001b[38;5;124mCorrelation Matrix\u001b[39m\u001b[38;5;124m'\u001b[39m)\n\u001b[1;32m----> 8\u001b[0m plt\u001b[38;5;241m.\u001b[39mshow() (edited)\n",
      "\u001b[1;31mNameError\u001b[0m: name 'edited' is not defined"
     ]
    }
   ],
   "source": [
    "# Use Seaborn to create a heatmap for 'income_df'\n",
    "corr_matrix = income_df.corr()\n",
    "plt.figure(figsize=(10, 8))\n",
    "# Create a heatmap using Seaborn\n",
    "sns.heatmap(corr_matrix, annot=True, cmap='coolwarm', linewidths=.5)\n",
    "plt.xticks(rotation=45, ha=\"right\")\n",
    "plt.title('Correlation Matrix')\n",
    "plt.show()"
   ]
  },
  {
   "cell_type": "code",
   "execution_count": 369,
   "id": "675ecda2",
   "metadata": {},
   "outputs": [
    {
     "data": {
      "image/png": "[encoded data removed]",
      "text/plain": [
       "<Figure size 640x480 with 1 Axes>"
      ]
     },
     "metadata": {},
     "output_type": "display_data"
    }
   ],
   "source": [
    "#Distribution of number Births by year \n",
    "\n",
    "sns.histplot(births_df['Total'], kde=True)\n",
    "plt.title('Distribution of Data')\n",
    "plt.show()"
   ]
  },
  {
   "cell_type": "code",
   "execution_count": 370,
   "id": "111608c9",
   "metadata": {},
   "outputs": [
    {
     "data": {
      "image/png": "[encoded data removed]",
      "text/plain": [
       "<Figure size 640x480 with 1 Axes>"
      ]
     },
     "metadata": {},
     "output_type": "display_data"
    }
   ],
   "source": [
    "#Distribution of number Deaths by year by age\n",
    "\n",
    "sns.histplot(bltper_df['Number of Deaths'], kde=True)\n",
    "plt.title('Distribution of Data')\n",
    "plt.show()"
   ]
  },
  {
   "cell_type": "code",
   "execution_count": 371,
   "id": "855ac6ed",
   "metadata": {},
   "outputs": [
    {
     "ename": "NameError",
     "evalue": "name 'your_data' is not defined",
     "output_type": "error",
     "traceback": [
      "\u001b[1;31m---------------------------------------------------------------------------\u001b[0m",
      "\u001b[1;31mNameError\u001b[0m                                 Traceback (most recent call last)",
      "Cell \u001b[1;32mIn[371], line 1\u001b[0m\n\u001b[1;32m----> 1\u001b[0m your_data\u001b[38;5;241m.\u001b[39mto_csv(\u001b[38;5;124m'\u001b[39m\u001b[38;5;124moutput.csv\u001b[39m\u001b[38;5;124m'\u001b[39m, index\u001b[38;5;241m=\u001b[39m\u001b[38;5;28;01mFalse\u001b[39;00m)\n",
      "\u001b[1;31mNameError\u001b[0m: name 'your_data' is not defined"
     ]
    }
   ],
   "source": [
    "your_data.to_csv('output.csv', index=False)"
   ]
  },
  {
   "cell_type": "code",
   "execution_count": 372,
   "id": "4ad86112",
   "metadata": {},
   "outputs": [],
   "source": [
    "births_df.to_csv('births.csv', index=False)\n",
    "bltper_df.to_csv('bltper.csv', index=False)\n",
    "deaths_df.to_csv('deaths.csv', index=False)\n",
    "population_df.to_csv('population.csv', index=False) \n",
    "income_df.to_csv('income.csv', index=False)\n",
    "per_capita_df.to_csv('percapita.csv', index=False)"
   ]
  },
  {
   "cell_type": "code",
   "execution_count": null,
   "id": "f116e44b",
   "metadata": {},
   "outputs": [],
   "source": []
  }
 ],
 "metadata": {
  "kernelspec": {
   "display_name": "Python 3 (ipykernel)",
   "language": "python",
   "name": "python3"
  },
  "language_info": {
   "codemirror_mode": {
    "name": "ipython",
    "version": 3
   },
   "file_extension": ".py",
   "mimetype": "text/x-python",
   "name": "python",
   "nbconvert_exporter": "python",
   "pygments_lexer": "ipython3",
   "version": "3.11.5"
  }
 },
 "nbformat": 4,
 "nbformat_minor": 5
}
